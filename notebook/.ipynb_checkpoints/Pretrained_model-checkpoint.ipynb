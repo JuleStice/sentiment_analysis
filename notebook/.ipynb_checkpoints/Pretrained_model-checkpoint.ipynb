{
 "cells": [
  {
   "cell_type": "code",
   "execution_count": null,
   "id": "848f4c0f-99b2-40ea-997f-8fe1340c05c0",
   "metadata": {},
   "outputs": [],
   "source": [
    "import pandas as pd\n",
    "from sklearn.model_selection import train_test_split"
   ]
  },
  {
   "cell_type": "code",
   "execution_count": null,
   "id": "66796b2e-6aaa-40a4-abf3-46405f89132d",
   "metadata": {},
   "outputs": [],
   "source": [
    "data=pd.read_csv(\"Z:/08. PERSO/1. KYP/3. Jules/Analyse sentiments NLP/amazon_reviews.csv\")\n",
    "data.head()"
   ]
  }
 ],
 "metadata": {
  "kernelspec": {
   "display_name": "Python 3 (ipykernel)",
   "language": "python",
   "name": "python3"
  },
  "language_info": {
   "codemirror_mode": {
    "name": "ipython",
    "version": 3
   },
   "file_extension": ".py",
   "mimetype": "text/x-python",
   "name": "python",
   "nbconvert_exporter": "python",
   "pygments_lexer": "ipython3",
   "version": "3.11.4"
  }
 },
 "nbformat": 4,
 "nbformat_minor": 5
}

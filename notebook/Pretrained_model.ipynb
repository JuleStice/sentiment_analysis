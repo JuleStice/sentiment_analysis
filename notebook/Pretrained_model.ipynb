{
 "cells": [
  {
   "cell_type": "markdown",
   "id": "c0bb8602-defc-4f56-a224-dcdf1c99f02a",
   "metadata": {},
   "source": [
    "# Sentiment analysis on Pretrained model (Bert base multilangual)"
   ]
  },
  {
   "cell_type": "markdown",
   "id": "852f8e30-1fdb-4c82-8130-82d6552ddcf3",
   "metadata": {},
   "source": [
    "# Import Libraries"
   ]
  },
  {
   "cell_type": "code",
   "execution_count": 24,
   "id": "648b8aae-f392-4148-ae4a-f32aeb4be050",
   "metadata": {
    "tags": []
   },
   "outputs": [
    {
     "name": "stdout",
     "output_type": "stream",
     "text": [
      "Looking in indexes: https://download.pytorch.org/whl/cu118\n",
      "Requirement already satisfied: torch in c:\\users\\jules\\appdata\\local\\anaconda3\\lib\\site-packages (2.2.0+cu118)\n",
      "Requirement already satisfied: torchvision in c:\\users\\jules\\appdata\\local\\anaconda3\\lib\\site-packages (0.17.0+cu118)\n",
      "Requirement already satisfied: torchaudio in c:\\users\\jules\\appdata\\local\\anaconda3\\lib\\site-packages (2.2.0+cu118)\n",
      "Requirement already satisfied: filelock in c:\\users\\jules\\appdata\\local\\anaconda3\\lib\\site-packages (from torch) (3.9.0)\n",
      "Requirement already satisfied: typing-extensions>=4.8.0 in c:\\users\\jules\\appdata\\local\\anaconda3\\lib\\site-packages (from torch) (4.9.0)\n",
      "Requirement already satisfied: sympy in c:\\users\\jules\\appdata\\local\\anaconda3\\lib\\site-packages (from torch) (1.11.1)\n",
      "Requirement already satisfied: networkx in c:\\users\\jules\\appdata\\local\\anaconda3\\lib\\site-packages (from torch) (3.1)\n",
      "Requirement already satisfied: jinja2 in c:\\users\\jules\\appdata\\local\\anaconda3\\lib\\site-packages (from torch) (3.1.2)\n",
      "Requirement already satisfied: fsspec in c:\\users\\jules\\appdata\\local\\anaconda3\\lib\\site-packages (from torch) (2024.2.0)\n",
      "Requirement already satisfied: numpy in c:\\users\\jules\\appdata\\local\\anaconda3\\lib\\site-packages (from torchvision) (1.24.3)\n",
      "Requirement already satisfied: requests in c:\\users\\jules\\appdata\\local\\anaconda3\\lib\\site-packages (from torchvision) (2.31.0)\n",
      "Requirement already satisfied: pillow!=8.3.*,>=5.3.0 in c:\\users\\jules\\appdata\\local\\anaconda3\\lib\\site-packages (from torchvision) (9.4.0)\n",
      "Requirement already satisfied: MarkupSafe>=2.0 in c:\\users\\jules\\appdata\\local\\anaconda3\\lib\\site-packages (from jinja2->torch) (2.1.1)\n",
      "Requirement already satisfied: charset-normalizer<4,>=2 in c:\\users\\jules\\appdata\\local\\anaconda3\\lib\\site-packages (from requests->torchvision) (2.0.4)\n",
      "Requirement already satisfied: idna<4,>=2.5 in c:\\users\\jules\\appdata\\local\\anaconda3\\lib\\site-packages (from requests->torchvision) (3.4)\n",
      "Requirement already satisfied: urllib3<3,>=1.21.1 in c:\\users\\jules\\appdata\\local\\anaconda3\\lib\\site-packages (from requests->torchvision) (1.26.16)\n",
      "Requirement already satisfied: certifi>=2017.4.17 in c:\\users\\jules\\appdata\\local\\anaconda3\\lib\\site-packages (from requests->torchvision) (2023.7.22)\n",
      "Requirement already satisfied: mpmath>=0.19 in c:\\users\\jules\\appdata\\local\\anaconda3\\lib\\site-packages (from sympy->torch) (1.3.0)\n"
     ]
    }
   ],
   "source": [
    "!pip3 install --progress-bar=on torch torchvision torchaudio --index-url https://download.pytorch.org/whl/cu118"
   ]
  },
  {
   "cell_type": "code",
   "execution_count": 28,
   "id": "10dd83d3-4f49-4adf-bcb2-63e12f94f66d",
   "metadata": {
    "tags": []
   },
   "outputs": [
    {
     "name": "stdout",
     "output_type": "stream",
     "text": [
      "Requirement already satisfied: transformers in c:\\users\\jules\\appdata\\local\\anaconda3\\lib\\site-packages (4.37.2)\n",
      "Requirement already satisfied: filelock in c:\\users\\jules\\appdata\\local\\anaconda3\\lib\\site-packages (from transformers) (3.9.0)\n",
      "Requirement already satisfied: huggingface-hub<1.0,>=0.19.3 in c:\\users\\jules\\appdata\\local\\anaconda3\\lib\\site-packages (from transformers) (0.20.3)\n",
      "Requirement already satisfied: numpy>=1.17 in c:\\users\\jules\\appdata\\local\\anaconda3\\lib\\site-packages (from transformers) (1.24.3)\n",
      "Requirement already satisfied: packaging>=20.0 in c:\\users\\jules\\appdata\\local\\anaconda3\\lib\\site-packages (from transformers) (23.0)\n",
      "Requirement already satisfied: pyyaml>=5.1 in c:\\users\\jules\\appdata\\local\\anaconda3\\lib\\site-packages (from transformers) (6.0)\n",
      "Requirement already satisfied: regex!=2019.12.17 in c:\\users\\jules\\appdata\\local\\anaconda3\\lib\\site-packages (from transformers) (2022.7.9)\n",
      "Requirement already satisfied: requests in c:\\users\\jules\\appdata\\local\\anaconda3\\lib\\site-packages (from transformers) (2.31.0)\n",
      "Requirement already satisfied: tokenizers<0.19,>=0.14 in c:\\users\\jules\\appdata\\local\\anaconda3\\lib\\site-packages (from transformers) (0.15.1)\n",
      "Requirement already satisfied: safetensors>=0.4.1 in c:\\users\\jules\\appdata\\local\\anaconda3\\lib\\site-packages (from transformers) (0.4.2)\n",
      "Requirement already satisfied: tqdm>=4.27 in c:\\users\\jules\\appdata\\local\\anaconda3\\lib\\site-packages (from transformers) (4.65.0)\n",
      "Requirement already satisfied: fsspec>=2023.5.0 in c:\\users\\jules\\appdata\\local\\anaconda3\\lib\\site-packages (from huggingface-hub<1.0,>=0.19.3->transformers) (2024.2.0)\n",
      "Requirement already satisfied: typing-extensions>=3.7.4.3 in c:\\users\\jules\\appdata\\local\\anaconda3\\lib\\site-packages (from huggingface-hub<1.0,>=0.19.3->transformers) (4.9.0)\n",
      "Requirement already satisfied: colorama in c:\\users\\jules\\appdata\\local\\anaconda3\\lib\\site-packages (from tqdm>=4.27->transformers) (0.4.6)\n",
      "Requirement already satisfied: charset-normalizer<4,>=2 in c:\\users\\jules\\appdata\\local\\anaconda3\\lib\\site-packages (from requests->transformers) (2.0.4)\n",
      "Requirement already satisfied: idna<4,>=2.5 in c:\\users\\jules\\appdata\\local\\anaconda3\\lib\\site-packages (from requests->transformers) (3.4)\n",
      "Requirement already satisfied: urllib3<3,>=1.21.1 in c:\\users\\jules\\appdata\\local\\anaconda3\\lib\\site-packages (from requests->transformers) (1.26.16)\n",
      "Requirement already satisfied: certifi>=2017.4.17 in c:\\users\\jules\\appdata\\local\\anaconda3\\lib\\site-packages (from requests->transformers) (2023.7.22)\n"
     ]
    }
   ],
   "source": [
    "!pip install transformers"
   ]
  },
  {
   "cell_type": "code",
   "execution_count": 27,
   "id": "26c02f36-6c54-482a-85db-6567c184dab4",
   "metadata": {
    "tags": []
   },
   "outputs": [
    {
     "name": "stdout",
     "output_type": "stream",
     "text": [
      "Requirement already satisfied: scikit-learn in c:\\users\\jules\\appdata\\local\\anaconda3\\lib\\site-packages (1.3.0)\n",
      "Requirement already satisfied: numpy>=1.17.3 in c:\\users\\jules\\appdata\\local\\anaconda3\\lib\\site-packages (from scikit-learn) (1.24.3)\n",
      "Requirement already satisfied: scipy>=1.5.0 in c:\\users\\jules\\appdata\\local\\anaconda3\\lib\\site-packages (from scikit-learn) (1.10.1)\n",
      "Requirement already satisfied: joblib>=1.1.1 in c:\\users\\jules\\appdata\\local\\anaconda3\\lib\\site-packages (from scikit-learn) (1.2.0)\n",
      "Requirement already satisfied: threadpoolctl>=2.0.0 in c:\\users\\jules\\appdata\\local\\anaconda3\\lib\\site-packages (from scikit-learn) (2.2.0)\n"
     ]
    }
   ],
   "source": [
    "!pip install scikit-learn"
   ]
  },
  {
   "cell_type": "code",
   "execution_count": 48,
   "id": "e367efd9-5923-4cec-a364-ebfb6dfed78a",
   "metadata": {
    "tags": []
   },
   "outputs": [],
   "source": [
    "import pandas as pd\n",
    "from sklearn.model_selection import train_test_split\n",
    "from transformers import AutoTokenizer, AutoModelForSequenceClassification\n",
    "import torch\n",
    "from sklearn.metrics import accuracy_score, recall_score, precision_score"
   ]
  },
  {
   "cell_type": "markdown",
   "id": "5c357e57-aa3a-4148-924b-61eb02fafea7",
   "metadata": {},
   "source": [
    "# 1. Get Data\n",
    "- 4913 Amazon reviews \n",
    "- Only keep overall and reviewText column"
   ]
  },
  {
   "cell_type": "code",
   "execution_count": 59,
   "id": "66796b2e-6aaa-40a4-abf3-46405f89132d",
   "metadata": {},
   "outputs": [
    {
     "data": {
      "text/html": [
       "<div>\n",
       "<style scoped>\n",
       "    .dataframe tbody tr th:only-of-type {\n",
       "        vertical-align: middle;\n",
       "    }\n",
       "\n",
       "    .dataframe tbody tr th {\n",
       "        vertical-align: top;\n",
       "    }\n",
       "\n",
       "    .dataframe thead th {\n",
       "        text-align: right;\n",
       "    }\n",
       "</style>\n",
       "<table border=\"1\" class=\"dataframe\">\n",
       "  <thead>\n",
       "    <tr style=\"text-align: right;\">\n",
       "      <th></th>\n",
       "      <th>Unnamed: 0</th>\n",
       "      <th>reviewerName</th>\n",
       "      <th>overall</th>\n",
       "      <th>reviewText</th>\n",
       "      <th>reviewTime</th>\n",
       "      <th>day_diff</th>\n",
       "      <th>helpful_yes</th>\n",
       "      <th>helpful_no</th>\n",
       "      <th>total_vote</th>\n",
       "      <th>score_pos_neg_diff</th>\n",
       "      <th>score_average_rating</th>\n",
       "      <th>wilson_lower_bound</th>\n",
       "    </tr>\n",
       "  </thead>\n",
       "  <tbody>\n",
       "    <tr>\n",
       "      <th>0</th>\n",
       "      <td>0</td>\n",
       "      <td>NaN</td>\n",
       "      <td>4.0</td>\n",
       "      <td>No issues.</td>\n",
       "      <td>2014-07-23</td>\n",
       "      <td>138</td>\n",
       "      <td>0</td>\n",
       "      <td>0</td>\n",
       "      <td>0</td>\n",
       "      <td>0</td>\n",
       "      <td>0.0</td>\n",
       "      <td>0.0</td>\n",
       "    </tr>\n",
       "    <tr>\n",
       "      <th>1</th>\n",
       "      <td>1</td>\n",
       "      <td>0mie</td>\n",
       "      <td>5.0</td>\n",
       "      <td>Purchased this for my device, it worked as adv...</td>\n",
       "      <td>2013-10-25</td>\n",
       "      <td>409</td>\n",
       "      <td>0</td>\n",
       "      <td>0</td>\n",
       "      <td>0</td>\n",
       "      <td>0</td>\n",
       "      <td>0.0</td>\n",
       "      <td>0.0</td>\n",
       "    </tr>\n",
       "    <tr>\n",
       "      <th>2</th>\n",
       "      <td>2</td>\n",
       "      <td>1K3</td>\n",
       "      <td>4.0</td>\n",
       "      <td>it works as expected. I should have sprung for...</td>\n",
       "      <td>2012-12-23</td>\n",
       "      <td>715</td>\n",
       "      <td>0</td>\n",
       "      <td>0</td>\n",
       "      <td>0</td>\n",
       "      <td>0</td>\n",
       "      <td>0.0</td>\n",
       "      <td>0.0</td>\n",
       "    </tr>\n",
       "    <tr>\n",
       "      <th>3</th>\n",
       "      <td>3</td>\n",
       "      <td>1m2</td>\n",
       "      <td>5.0</td>\n",
       "      <td>This think has worked out great.Had a diff. br...</td>\n",
       "      <td>2013-11-21</td>\n",
       "      <td>382</td>\n",
       "      <td>0</td>\n",
       "      <td>0</td>\n",
       "      <td>0</td>\n",
       "      <td>0</td>\n",
       "      <td>0.0</td>\n",
       "      <td>0.0</td>\n",
       "    </tr>\n",
       "    <tr>\n",
       "      <th>4</th>\n",
       "      <td>4</td>\n",
       "      <td>2&amp;amp;1/2Men</td>\n",
       "      <td>5.0</td>\n",
       "      <td>Bought it with Retail Packaging, arrived legit...</td>\n",
       "      <td>2013-07-13</td>\n",
       "      <td>513</td>\n",
       "      <td>0</td>\n",
       "      <td>0</td>\n",
       "      <td>0</td>\n",
       "      <td>0</td>\n",
       "      <td>0.0</td>\n",
       "      <td>0.0</td>\n",
       "    </tr>\n",
       "  </tbody>\n",
       "</table>\n",
       "</div>"
      ],
      "text/plain": [
       "   Unnamed: 0  reviewerName  overall  \\\n",
       "0           0           NaN      4.0   \n",
       "1           1          0mie      5.0   \n",
       "2           2           1K3      4.0   \n",
       "3           3           1m2      5.0   \n",
       "4           4  2&amp;1/2Men      5.0   \n",
       "\n",
       "                                          reviewText  reviewTime  day_diff  \\\n",
       "0                                         No issues.  2014-07-23       138   \n",
       "1  Purchased this for my device, it worked as adv...  2013-10-25       409   \n",
       "2  it works as expected. I should have sprung for...  2012-12-23       715   \n",
       "3  This think has worked out great.Had a diff. br...  2013-11-21       382   \n",
       "4  Bought it with Retail Packaging, arrived legit...  2013-07-13       513   \n",
       "\n",
       "   helpful_yes  helpful_no  total_vote  score_pos_neg_diff  \\\n",
       "0            0           0           0                   0   \n",
       "1            0           0           0                   0   \n",
       "2            0           0           0                   0   \n",
       "3            0           0           0                   0   \n",
       "4            0           0           0                   0   \n",
       "\n",
       "   score_average_rating  wilson_lower_bound  \n",
       "0                   0.0                 0.0  \n",
       "1                   0.0                 0.0  \n",
       "2                   0.0                 0.0  \n",
       "3                   0.0                 0.0  \n",
       "4                   0.0                 0.0  "
      ]
     },
     "execution_count": 59,
     "metadata": {},
     "output_type": "execute_result"
    }
   ],
   "source": [
    "data=pd.read_csv(\"C:/Users/jules/Documents/Sentiment_analysis/sentiment_analysis/data/amazon_reviews.csv\")\n",
    "data.head()"
   ]
  },
  {
   "cell_type": "markdown",
   "id": "2b06fa44-d20a-41d5-925a-3609d231978b",
   "metadata": {},
   "source": [
    "# 2. Cleaning Data"
   ]
  },
  {
   "cell_type": "code",
   "execution_count": 60,
   "id": "eb6d88f0-53d6-4197-991d-3da3b88373d7",
   "metadata": {
    "tags": []
   },
   "outputs": [
    {
     "data": {
      "text/plain": [
       "reviewText    4911\n",
       "overall       4911\n",
       "dtype: int64"
      ]
     },
     "execution_count": 60,
     "metadata": {},
     "output_type": "execute_result"
    }
   ],
   "source": [
    "reviews=data[(data[\"reviewText\"]!=\"No issues.\")][[\"reviewText\", \"overall\"]]\n",
    "reviews = reviews[~((reviews['reviewText'].str.startswith('Works fine my Virgin')) & (reviews['overall'] == 5.0))].dropna()\n",
    "reviews.reset_index(drop=True, inplace=True)\n",
    "reviews.count()"
   ]
  },
  {
   "cell_type": "code",
   "execution_count": 61,
   "id": "8858d0ab-1f36-4ca4-9a95-d8a2eecc6c92",
   "metadata": {
    "tags": []
   },
   "outputs": [
    {
     "data": {
      "text/plain": [
       "5.0    3919\n",
       "4.0     526\n",
       "1.0     244\n",
       "3.0     142\n",
       "2.0      80\n",
       "Name: overall, dtype: int64"
      ]
     },
     "execution_count": 61,
     "metadata": {},
     "output_type": "execute_result"
    }
   ],
   "source": [
    "reviews[\"overall\"].value_counts()"
   ]
  },
  {
   "cell_type": "code",
   "execution_count": 62,
   "id": "df086099-03dc-49b7-9ce4-b54b1edf7259",
   "metadata": {
    "tags": []
   },
   "outputs": [],
   "source": [
    "reviews[\"reviewText\"]=reviews[\"reviewText\"].astype(\"string\")"
   ]
  },
  {
   "cell_type": "markdown",
   "id": "417f6207-5e30-4f37-aa50-1165b4cf6c7a",
   "metadata": {},
   "source": [
    "This dataframe is not balanced, many reviews have 5 stars, so we will reduce this number to bring it closer to the number of other reviews.\n",
    "For greater accuracy, we would have needed more negative data."
   ]
  },
  {
   "cell_type": "code",
   "execution_count": 63,
   "id": "c68d3e0b-fc1c-47cb-b5a1-f5ad01b4d002",
   "metadata": {
    "tags": []
   },
   "outputs": [
    {
     "name": "stdout",
     "output_type": "stream",
     "text": [
      "POSITIVE LENGTH:  600\n",
      "NEUTRAL LENGTH:  668\n",
      "NEGATIVE LENGTH :  324\n"
     ]
    }
   ],
   "source": [
    "data_positive = reviews[reviews[\"overall\"] == 5.0].copy()\n",
    "\n",
    "data_negative = reviews.copy().loc[(reviews['overall'] == 2.0) | (reviews['overall'] == 1.0)]\n",
    "data_neutral = reviews.copy().loc[(reviews['overall'] == 4.0) | (reviews['overall'] == 3.0)]\n",
    "                      \n",
    "data_positive = data_positive.copy().sample(n=600, random_state=42)\n",
    "data_positive.reset_index()\n",
    "\n",
    "print(\"POSITIVE LENGTH: \",len(data_positive))\n",
    "print(\"NEUTRAL LENGTH: \",len(data_neutral))\n",
    "print(\"NEGATIVE LENGTH : \",len(data_negative)) "
   ]
  },
  {
   "cell_type": "code",
   "execution_count": 64,
   "id": "fe1bb5e1-97e0-4a17-9a79-dc4191e451d4",
   "metadata": {
    "tags": []
   },
   "outputs": [],
   "source": [
    "clean_data = pd.concat([data_positive,data_neutral,data_negative])"
   ]
  },
  {
   "cell_type": "code",
   "execution_count": 65,
   "id": "36fe804d-37c7-4849-a1db-45e1a52f6d5e",
   "metadata": {
    "tags": []
   },
   "outputs": [],
   "source": [
    "# Charger le tokenizer et le modèle\n",
    "tokenizer = AutoTokenizer.from_pretrained('nlptown/bert-base-multilingual-uncased-sentiment')\n",
    "model = AutoModelForSequenceClassification.from_pretrained('nlptown/bert-base-multilingual-uncased-sentiment')"
   ]
  },
  {
   "cell_type": "code",
   "execution_count": 66,
   "id": "6db55b4f-790c-4084-8c72-14dd1fba6a23",
   "metadata": {
    "tags": []
   },
   "outputs": [],
   "source": [
    "def sentiment_score(review):\n",
    "    tokens=tokenizer.encode(review,return_tensors='pt')\n",
    "    result = model(tokens)\n",
    "    return int(torch.argmax(result.logits))+1"
   ]
  },
  {
   "cell_type": "code",
   "execution_count": 67,
   "id": "3807e193-2f0f-4ef0-a58b-3060568a4777",
   "metadata": {
    "tags": []
   },
   "outputs": [],
   "source": [
    "clean_data['result'] = clean_data[\"reviewText\"].apply(lambda x:sentiment_score(x[:512]))"
   ]
  },
  {
   "cell_type": "code",
   "execution_count": 68,
   "id": "b3f5eda6-d345-47e8-90f2-6f3871b1a41f",
   "metadata": {
    "tags": []
   },
   "outputs": [
    {
     "data": {
      "text/plain": [
       "0.5646984924623115"
      ]
     },
     "execution_count": 68,
     "metadata": {},
     "output_type": "execute_result"
    }
   ],
   "source": [
    "accuracy_score(clean_data[\"result\"],clean_data[\"overall\"])"
   ]
  },
  {
   "cell_type": "code",
   "execution_count": 69,
   "id": "43209def-746e-41d2-8b46-1b0fd5bdcf9c",
   "metadata": {
    "tags": []
   },
   "outputs": [
    {
     "data": {
      "text/html": [
       "<div>\n",
       "<style scoped>\n",
       "    .dataframe tbody tr th:only-of-type {\n",
       "        vertical-align: middle;\n",
       "    }\n",
       "\n",
       "    .dataframe tbody tr th {\n",
       "        vertical-align: top;\n",
       "    }\n",
       "\n",
       "    .dataframe thead th {\n",
       "        text-align: right;\n",
       "    }\n",
       "</style>\n",
       "<table border=\"1\" class=\"dataframe\">\n",
       "  <thead>\n",
       "    <tr style=\"text-align: right;\">\n",
       "      <th></th>\n",
       "      <th>Category</th>\n",
       "      <th>Precision</th>\n",
       "      <th>Recall</th>\n",
       "    </tr>\n",
       "  </thead>\n",
       "  <tbody>\n",
       "    <tr>\n",
       "      <th>0</th>\n",
       "      <td>5.0</td>\n",
       "      <td>0.659</td>\n",
       "      <td>0.728</td>\n",
       "    </tr>\n",
       "    <tr>\n",
       "      <th>1</th>\n",
       "      <td>4.0</td>\n",
       "      <td>0.567</td>\n",
       "      <td>0.392</td>\n",
       "    </tr>\n",
       "    <tr>\n",
       "      <th>2</th>\n",
       "      <td>3.0</td>\n",
       "      <td>0.329</td>\n",
       "      <td>0.366</td>\n",
       "    </tr>\n",
       "    <tr>\n",
       "      <th>3</th>\n",
       "      <td>2.0</td>\n",
       "      <td>0.211</td>\n",
       "      <td>0.438</td>\n",
       "    </tr>\n",
       "    <tr>\n",
       "      <th>4</th>\n",
       "      <td>1.0</td>\n",
       "      <td>0.698</td>\n",
       "      <td>0.693</td>\n",
       "    </tr>\n",
       "  </tbody>\n",
       "</table>\n",
       "</div>"
      ],
      "text/plain": [
       "   Category  Precision  Recall\n",
       "0       5.0      0.659   0.728\n",
       "1       4.0      0.567   0.392\n",
       "2       3.0      0.329   0.366\n",
       "3       2.0      0.211   0.438\n",
       "4       1.0      0.698   0.693"
      ]
     },
     "execution_count": 69,
     "metadata": {},
     "output_type": "execute_result"
    }
   ],
   "source": [
    "categories = [5.0, 4.0, 3.0, 2.0, 1.0]\n",
    "\n",
    "schema={'Category':'float64','Precision':'float64','Recall':'float64'}\n",
    "df_result_star_rating = pd.DataFrame(columns=schema.keys()).astype(schema)\n",
    "\n",
    "# Calculer la précision et le rappel pour chaque catégorie\n",
    "for category in categories:\n",
    "    # Convertir les valeurs de 'expected_result' et 'result' en valeurs binaires basées sur la catégorie actuelle\n",
    "    expected_binary = (clean_data['overall'] == category).astype(int)\n",
    "    predicted_binary = (clean_data['result'] == category).astype(int)\n",
    "    \n",
    "    # Calculer la précision et le rappel pour la catégorie actuelle\n",
    "    precision = precision_score(expected_binary, predicted_binary)\n",
    "    recall = recall_score(expected_binary, predicted_binary)\n",
    "    \n",
    "    # Ajouter les résultats à nos listes\n",
    "    row =  {'Category':category, 'Precision':round(precision,3), 'Recall':round(recall,3)}\n",
    "    df_result_star_rating = pd.concat([df_result_star_rating, pd.DataFrame.from_records([row])])\n",
    "    df_result_star_rating.reset_index(drop=True, inplace=True)\n",
    "\n",
    "df_result_star_rating"
   ]
  },
  {
   "cell_type": "code",
   "execution_count": 70,
   "id": "baf19af4-a531-4691-bb4a-139a2d98afb3",
   "metadata": {
    "tags": []
   },
   "outputs": [
    {
     "data": {
      "text/plain": [
       "positive    1026\n",
       "negative     408\n",
       "neutral      158\n",
       "Name: result, dtype: int64"
      ]
     },
     "execution_count": 70,
     "metadata": {},
     "output_type": "execute_result"
    }
   ],
   "source": [
    "clean_data_2=clean_data.copy()\n",
    "clean_data_2[\"overall\"] = clean_data[\"overall\"].replace({5.: \"positive\", 4.0: \"positive\", 3.0:\"neutral\",2.0:\"negative\",1.0:\"negative\"}, inplace=False)\n",
    "clean_data_2[\"result\"] = clean_data[\"result\"].replace({5: \"positive\", 4: \"positive\", 3:\"neutral\",2:\"negative\",1:\"negative\"}, inplace=False)\n",
    "clean_data_2[\"result\"].value_counts()"
   ]
  },
  {
   "cell_type": "code",
   "execution_count": 71,
   "id": "93372323-b371-4de4-92f8-6e6882183a8a",
   "metadata": {
    "tags": []
   },
   "outputs": [
    {
     "data": {
      "text/html": [
       "<div>\n",
       "<style scoped>\n",
       "    .dataframe tbody tr th:only-of-type {\n",
       "        vertical-align: middle;\n",
       "    }\n",
       "\n",
       "    .dataframe tbody tr th {\n",
       "        vertical-align: top;\n",
       "    }\n",
       "\n",
       "    .dataframe thead th {\n",
       "        text-align: right;\n",
       "    }\n",
       "</style>\n",
       "<table border=\"1\" class=\"dataframe\">\n",
       "  <thead>\n",
       "    <tr style=\"text-align: right;\">\n",
       "      <th></th>\n",
       "      <th>Category</th>\n",
       "      <th>Precision</th>\n",
       "      <th>Recall</th>\n",
       "    </tr>\n",
       "  </thead>\n",
       "  <tbody>\n",
       "    <tr>\n",
       "      <th>0</th>\n",
       "      <td>positive</td>\n",
       "      <td>0.958</td>\n",
       "      <td>0.873</td>\n",
       "    </tr>\n",
       "    <tr>\n",
       "      <th>1</th>\n",
       "      <td>neutral</td>\n",
       "      <td>0.329</td>\n",
       "      <td>0.366</td>\n",
       "    </tr>\n",
       "    <tr>\n",
       "      <th>2</th>\n",
       "      <td>negative</td>\n",
       "      <td>0.725</td>\n",
       "      <td>0.914</td>\n",
       "    </tr>\n",
       "  </tbody>\n",
       "</table>\n",
       "</div>"
      ],
      "text/plain": [
       "   Category  Precision  Recall\n",
       "0  positive      0.958   0.873\n",
       "1   neutral      0.329   0.366\n",
       "2  negative      0.725   0.914"
      ]
     },
     "execution_count": 71,
     "metadata": {},
     "output_type": "execute_result"
    }
   ],
   "source": [
    "categories = [\"positive\",\"neutral\",\"negative\"]\n",
    "\n",
    "schema={'Category':'string','Precision':'float64','Recall':'float64'}\n",
    "df_result_sentiment = pd.DataFrame(columns=schema.keys()).astype(schema)\n",
    "\n",
    "\n",
    "# Calculer la précision et le rappel pour chaque catégorie\n",
    "for category in categories:\n",
    "    # Convertir les valeurs de 'expected_result' et 'result' en valeurs binaires basées sur la catégorie actuelle\n",
    "    expected_binary = (clean_data_2['overall'] == category).astype(int)\n",
    "    predicted_binary = (clean_data_2['result'] == category).astype(int)\n",
    "    \n",
    "    # Calculer la précision et le rappel pour la catégorie actuelle\n",
    "    precision = precision_score(expected_binary, predicted_binary)\n",
    "    recall = recall_score(expected_binary, predicted_binary)\n",
    "    \n",
    "    # Ajouter les résultats à nos listes\n",
    "    row =  {'Category':category, 'Precision':round(precision,3), 'Recall':round(recall,3)}\n",
    "    df_result_sentiment = pd.concat([df_result_sentiment, pd.DataFrame.from_records([row])])\n",
    "    df_result_sentiment.reset_index(drop=True, inplace=True)\n",
    "\n",
    "df_result_sentiment"
   ]
  }
 ],
 "metadata": {
  "kernelspec": {
   "display_name": "Python 3 (ipykernel)",
   "language": "python",
   "name": "python3"
  },
  "language_info": {
   "codemirror_mode": {
    "name": "ipython",
    "version": 3
   },
   "file_extension": ".py",
   "mimetype": "text/x-python",
   "name": "python",
   "nbconvert_exporter": "python",
   "pygments_lexer": "ipython3",
   "version": "3.11.4"
  }
 },
 "nbformat": 4,
 "nbformat_minor": 5
}
